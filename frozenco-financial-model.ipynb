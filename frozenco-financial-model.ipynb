{
 "cells": [
  {
   "cell_type": "code",
   "execution_count": 4,
   "id": "e49440bd-bf4f-4136-985a-1c07556924d6",
   "metadata": {},
   "outputs": [],
   "source": [
    "def calculate_income_statement(revenue, cost_of_goods_sold, operating_expenses, depreciation, interest_expense, tax_rate):\n",
    "    \"\"\"\n",
    "    Calculate the line items in an Income Statement.\n",
    "\n",
    "  Ther  Parameters:\n",
    "    revenue (float): Total revenue for the period.\n",
    "    cost_of_goods_sold (float): Cost of goods sold for the period.\n",
    "    operating_expenses (float): Total operating expenses for the period.\n",
    "    depreciation (float): Depreciation expense for the period.\n",
    "    interest_expense (float): Interest expense for the period.\n",
    "    tax_rate (float): Effective tax rate as a decimal (e.g., 0.25 for 25%).\n",
    "\n",
    "    Returns:\n",
    "    dict: A dictionary containing the calculated line items in the Income Statement.\n",
    "    \"\"\"\n",
    "    gross_profit = revenue - cost_of_goods_sold\n",
    "    operating_income = gross_profit - operating_expenses\n",
    "    ebitda = operating_income + depreciation\n",
    "    interest_income = 0  # You can include this if applicable\n",
    "    pre_tax_income = ebitda - interest_expense + interest_income\n",
    "    income_tax = pre_tax_income * tax_rate\n",
    "    net_income = pre_tax_income - income_tax\n",
    "\n",
    "    income_statement = {\n",
    "        \"Revenue\": revenue,\n",
    "        \"Cost of Goods Sold\": cost_of_goods_sold,\n",
    "        \"Gross Profit\": gross_profit,\n",
    "        \"Operating Expenses\": operating_expenses,\n",
    "        \"Operating Income\": operating_income,\n",
    "        \"EBITDA\": ebitda,\n",
    "        \"Interest Expense\": interest_expense,\n",
    "        \"Interest Income\": interest_income,\n",
    "        \"Pre-Tax Income\": pre_tax_income,\n",
    "        \"Income Tax\": income_tax,\n",
    "        \"Net Income\": net_income\n",
    "    }\n",
    "\n",
    "    return income_statement"
   ]
  },
  {
   "cell_type": "code",
   "execution_count": null,
   "id": "70eba845",
   "metadata": {},
   "outputs": [],
   "source": [
    "def working_capital:\n",
    "    return self.current_assets - current_liabilities"
   ]
  },
  {
   "cell_type": "code",
   "execution_count": 6,
   "id": "a4513a23-e70c-4787-aa7c-088a0a7a24c5",
   "metadata": {},
   "outputs": [
    {
     "name": "stdout",
     "output_type": "stream",
     "text": [
      "{'Revenue': 102, 'Cost of Goods Sold': 23, 'Gross Profit': 79, 'Operating Expenses': 15, 'Operating Income': 64, 'EBITDA': 66, 'Interest Expense': 23, 'Interest Income': 0, 'Pre-Tax Income': 43, 'Income Tax': 1505, 'Net Income': -1462}\n"
     ]
    }
   ],
   "source": [
    "print (calculate_income_statement(102, 23, 15, 2, 23, 35))"
   ]
  }
 ],
 "metadata": {
  "kernelspec": {
   "display_name": "Python 3 (ipykernel)",
   "language": "python",
   "name": "python3"
  },
  "language_info": {
   "codemirror_mode": {
    "name": "ipython",
    "version": 3
   },
   "file_extension": ".py",
   "mimetype": "text/x-python",
   "name": "python",
   "nbconvert_exporter": "python",
   "pygments_lexer": "ipython3",
   "version": "3.8.16"
  }
 },
 "nbformat": 4,
 "nbformat_minor": 5
}
